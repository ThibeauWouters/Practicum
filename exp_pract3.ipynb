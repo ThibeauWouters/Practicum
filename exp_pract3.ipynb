{
 "cells": [
  {
   "cell_type": "markdown",
   "metadata": {},
   "source": [
    "# Vooraf: enkele functies definiëren etc"
   ]
  },
  {
   "cell_type": "code",
   "execution_count": 1,
   "metadata": {},
   "outputs": [],
   "source": [
    "import matplotlib.pyplot as plt\n",
    "%matplotlib notebook\n",
    "import numpy as np\n",
    "import sympy as sp\n",
    "from IPython.display import display\n",
    "sp.init_printing()"
   ]
  },
  {
   "cell_type": "code",
   "execution_count": 2,
   "metadata": {},
   "outputs": [],
   "source": [
    "# Geeft symbolisch de foutenpropagatie formule voor practica\n",
    "\n",
    "def error(functie, variabelen, fouten):   # variabelen en fouten zijn twee lijsten met symbolen\n",
    "    #fouten = make_errorsymbols(variabelen)\n",
    "    fout = 0\n",
    "    \n",
    "    if len(variabelen)!= len(fouten):\n",
    "        raise ValueError('Lengte variabelen komt niet overeen met lengte fouten')\n",
    "        \n",
    "    for i in range(len(variabelen)):\n",
    "        fout += sp.diff(functie, variabelen[i])**2 * fouten[i]**2\n",
    "        \n",
    "    fout = sp.sqrt(fout)\n",
    "    return fout"
   ]
  },
  {
   "cell_type": "code",
   "execution_count": 3,
   "metadata": {},
   "outputs": [],
   "source": [
    "def make_errorsymbols(list): #voor een lijst van variabelen, maak de symbolische fouten\n",
    "    \n",
    "    symbols = []\n",
    "    \n",
    "    for element in list:\n",
    "        variable = 'd' + str(element)\n",
    "        variable = sp.symbols(variable)\n",
    "        symbols.append(variable)\n",
    "    \n",
    "    return symbols"
   ]
  },
  {
   "cell_type": "code",
   "execution_count": 4,
   "metadata": {},
   "outputs": [],
   "source": [
    "R1, R3, R4 = sp.symbols('R1 R3 R4')\n",
    "dR1, dR3, dR4 = sp.symbols('dR1 dR3 dR4')\n",
    "\n",
    "Rx = (R1*R4)/R3"
   ]
  },
  {
   "cell_type": "code",
   "execution_count": null,
   "metadata": {},
   "outputs": [],
   "source": []
  },
  {
   "cell_type": "code",
   "execution_count": 5,
   "metadata": {},
   "outputs": [],
   "source": [
    "fouten = error(Rx, [R1, R3, R4], [dR1, dR3, dR4])"
   ]
  },
  {
   "cell_type": "code",
   "execution_count": 6,
   "metadata": {},
   "outputs": [
    {
     "data": {
      "image/png": "[encoded data removed]",
      "text/latex": [
       "$$\\sqrt{\\frac{R_{1}^{2} dR_{4}^{2}}{R_{3}^{2}} + \\frac{R_{1}^{2} R_{4}^{2}}{R_{3}^{4}} dR_{3}^{2} + \\frac{R_{4}^{2} dR_{1}^{2}}{R_{3}^{2}}}$$"
      ],
      "text/plain": [
       "      ____________________________________\n",
       "     ╱   2    2     2   2    2     2    2 \n",
       "    ╱  R₁ ⋅dR₄    R₁ ⋅R₄ ⋅dR₃    R₄ ⋅dR₁  \n",
       "   ╱   ──────── + ──────────── + ──────── \n",
       "  ╱        2            4            2    \n",
       "╲╱       R₃           R₃           R₃     "
      ]
     },
     "execution_count": 6,
     "metadata": {},
     "output_type": "execute_result"
    }
   ],
   "source": [
    "fouten"
   ]
  },
  {
   "cell_type": "code",
   "execution_count": 7,
   "metadata": {},
   "outputs": [
    {
     "data": {
      "image/png": "[encoded data removed]",
      "text/latex": [
       "$$\\frac{R_{1} R_{4}}{R_{3}}$$"
      ],
      "text/plain": [
       "R₁⋅R₄\n",
       "─────\n",
       "  R₃ "
      ]
     },
     "metadata": {},
     "output_type": "display_data"
    }
   ],
   "source": [
    "display(Rx)"
   ]
  },
  {
   "cell_type": "markdown",
   "metadata": {},
   "source": [
    "# Berekenen van R_X"
   ]
  },
  {
   "cell_type": "code",
   "execution_count": 8,
   "metadata": {},
   "outputs": [],
   "source": [
    "# Invoeren gemeten waarden weerstanden ALS ARRAYS!! (niet lijsten!)\n",
    "\n",
    "waardenR1 = np.array([1*10**3, 10*10**3, 10*10**3, 1*10**3, 1*10**3, 10*10**3, 1*10**3], dtype = np.float64)\n",
    "waardenR3 = np.array([1*10**3, 1*10**3,  1*10**3,  1*10**3, 1*10**3, 1*10**3,  1*10**3], dtype = np.float64)\n",
    "waardenR4 = np.array([396, 248, 206, 151, 626, 156, 760], dtype = np.float64)\n",
    "\n",
    "onzekerhedenR1 = np.array([2, 20, 20, 2, 2, 20, 2], dtype = np.float64)\n",
    "onzekerhedenR3 = np.array([2, 2, 2, 2, 2, 2, 2], dtype = np.float64)\n",
    "onzekerhedenR4 = np.array([5, 3, 3, 3, 7, 3, 9], dtype = np.float64)"
   ]
  },
  {
   "cell_type": "code",
   "execution_count": 9,
   "metadata": {},
   "outputs": [],
   "source": [
    "# Berekenen van de Rx-en\n",
    "\n",
    "waardenRx = waardenR1*waardenR4/waardenR3\n"
   ]
  },
  {
   "cell_type": "code",
   "execution_count": 10,
   "metadata": {},
   "outputs": [
    {
     "data": {
      "text/plain": [
       "array([ 396., 2480., 2060.,  151.,  626., 1560.,  760.])"
      ]
     },
     "metadata": {},
     "output_type": "display_data"
    }
   ],
   "source": [
    "display(waardenRx)\n",
    "# Komen overeen met de waarden die Basten heeft opgeschreven"
   ]
  },
  {
   "cell_type": "code",
   "execution_count": 11,
   "metadata": {},
   "outputs": [
    {
     "data": {
      "image/png": "[encoded data removed]",
      "text/latex": [
       "$$\\sqrt{\\frac{R_{1}^{2} dR_{4}^{2}}{R_{3}^{2}} + \\frac{R_{1}^{2} R_{4}^{2}}{R_{3}^{4}} dR_{3}^{2} + \\frac{R_{4}^{2} dR_{1}^{2}}{R_{3}^{2}}}$$"
      ],
      "text/plain": [
       "      ____________________________________\n",
       "     ╱   2    2     2   2    2     2    2 \n",
       "    ╱  R₁ ⋅dR₄    R₁ ⋅R₄ ⋅dR₃    R₄ ⋅dR₁  \n",
       "   ╱   ──────── + ──────────── + ──────── \n",
       "  ╱        2            4            2    \n",
       "╲╱       R₃           R₃           R₃     "
      ]
     },
     "execution_count": 11,
     "metadata": {},
     "output_type": "execute_result"
    }
   ],
   "source": [
    "fouten"
   ]
  },
  {
   "cell_type": "markdown",
   "metadata": {},
   "source": [
    "# Berekenen fouten op R_x"
   ]
  },
  {
   "cell_type": "code",
   "execution_count": 12,
   "metadata": {},
   "outputs": [],
   "source": [
    "fouten_num = sp.lambdify((R1, R3, R4, dR1, dR3, dR4), fouten, 'numpy')"
   ]
  },
  {
   "cell_type": "code",
   "execution_count": 13,
   "metadata": {},
   "outputs": [],
   "source": [
    "onzekerhedenRx = fouten_num(waardenR1, waardenR3, waardenR4, onzekerhedenR1, onzekerhedenR3, onzekerhedenR4)"
   ]
  },
  {
   "cell_type": "code",
   "execution_count": 14,
   "metadata": {},
   "outputs": [
    {
     "data": {
      "text/plain": [
       "array([ 5.12391725, 30.8091415 , 30.56057591,  3.03024883,  7.2204576 ,\n",
       "       30.32274394,  9.25315081])"
      ]
     },
     "execution_count": 14,
     "metadata": {},
     "output_type": "execute_result"
    }
   ],
   "source": [
    "onzekerhedenRx"
   ]
  },
  {
   "cell_type": "markdown",
   "metadata": {},
   "source": [
    "# Hypothesetest doen"
   ]
  },
  {
   "cell_type": "code",
   "execution_count": 15,
   "metadata": {},
   "outputs": [],
   "source": [
    "# Voer de theoretisch bepaalde waarden in\n",
    "\n",
    "theoretischeRx = np.array([390, 2400, 2000, 150, 620, 1500, 750], dtype = np.float64)\n",
    "onzekerhedenthRx =  np.array([4, 24, 20, 2, 31, 30, 38], dtype = np.float64)\n",
    "\n",
    "# Omdat de gegeven onzekerheden op theoretische Rx systematische fouten zijn:\n",
    "\n",
    "onzekerhedenthRx = (1/np.sqrt(12))*onzekerhedenthRx"
   ]
  },
  {
   "cell_type": "code",
   "execution_count": 16,
   "metadata": {},
   "outputs": [
    {
     "data": {
      "text/plain": [
       "array([ 1.15470054,  6.92820323,  5.77350269,  0.57735027,  8.94892917,\n",
       "        8.66025404, 10.96965511])"
      ]
     },
     "execution_count": 16,
     "metadata": {},
     "output_type": "execute_result"
    }
   ],
   "source": [
    "onzekerhedenthRx"
   ]
  },
  {
   "cell_type": "code",
   "execution_count": 17,
   "metadata": {},
   "outputs": [],
   "source": [
    "# We volgen nu slides les 3 vanaf slide 9 (stappenplan)\n",
    "\n",
    "sigma_tot = np.sqrt(onzekerhedenthRx**2 + onzekerhedenRx**2)\n",
    "x = np.abs(waardenRx - theoretischeRx)/sigma_tot"
   ]
  },
  {
   "cell_type": "code",
   "execution_count": 18,
   "metadata": {},
   "outputs": [
    {
     "data": {
      "text/plain": [
       "array([1.14233171, 2.53336727, 1.92918851, 0.32417438, 0.52180159,\n",
       "       1.90263582, 0.69681059])"
      ]
     },
     "execution_count": 18,
     "metadata": {},
     "output_type": "execute_result"
    }
   ],
   "source": [
    "x"
   ]
  },
  {
   "cell_type": "code",
   "execution_count": 19,
   "metadata": {},
   "outputs": [],
   "source": [
    "import scipy.stats as nst"
   ]
  },
  {
   "cell_type": "code",
   "execution_count": 20,
   "metadata": {},
   "outputs": [],
   "source": [
    "# Indien normale verdeling:\n",
    "\n",
    "p_waarde = 2*(1-nst.norm.cdf(x))\n",
    "# nst.norm.cdf(x) bepaalt de kans dat X < x[i], dus omdat tweezijdige toets 2*(1-...)"
   ]
  },
  {
   "cell_type": "code",
   "execution_count": 21,
   "metadata": {},
   "outputs": [
    {
     "data": {
      "text/plain": [
       "array([0.25331616, 0.01129725, 0.05370746, 0.74580602, 0.60180848,\n",
       "       0.05708808, 0.48592134])"
      ]
     },
     "execution_count": 21,
     "metadata": {},
     "output_type": "execute_result"
    }
   ],
   "source": [
    "# P-waarden uit de hypothesetest\n",
    "p_waarde"
   ]
  },
  {
   "cell_type": "code",
   "execution_count": null,
   "metadata": {},
   "outputs": [],
   "source": []
  }
 ],
 "metadata": {
  "kernelspec": {
   "display_name": "Python 3",
   "language": "python",
   "name": "python3"
  },
  "language_info": {
   "codemirror_mode": {
    "name": "ipython",
    "version": 3
   },
   "file_extension": ".py",
   "mimetype": "text/x-python",
   "name": "python",
   "nbconvert_exporter": "python",
   "pygments_lexer": "ipython3",
   "version": "3.6.5"
  }
 },
 "nbformat": 4,
 "nbformat_minor": 2
}
