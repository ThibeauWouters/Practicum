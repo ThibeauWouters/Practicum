{
 "cells": [
  {
   "cell_type": "markdown",
   "metadata": {},
   "source": [
    "# Practicum 1: oscilloscoop"
   ]
  },
  {
   "cell_type": "code",
   "execution_count": 1,
   "metadata": {},
   "outputs": [],
   "source": [
    "import matplotlib.pyplot as plt\n",
    "%matplotlib notebook\n",
    "import numpy as np\n",
    "import sympy as sp\n",
    "from IPython.display import display\n",
    "sp.init_printing()"
   ]
  },
  {
   "cell_type": "markdown",
   "metadata": {},
   "source": [
    "### Definieer de symbolen, functies, en bereken partiële afgeleiden"
   ]
  },
  {
   "cell_type": "code",
   "execution_count": 2,
   "metadata": {},
   "outputs": [],
   "source": [
    "# Definieer symbolen\n",
    "R = sp.symbols('R')\n",
    "L = sp.symbols('L')\n",
    "C = sp.symbols('C')\n",
    "\n",
    "sr = sp.symbols('sr')\n",
    "sl = sp.symbols('sl')\n",
    "sc = sp.symbols('sc')\n",
    "\n",
    "# Definieer de twee functies\n",
    "dempingsfactor = R/(2*L)\n",
    "resfreq = 1/sp.sqrt(L*C)"
   ]
  },
  {
   "cell_type": "code",
   "execution_count": 3,
   "metadata": {},
   "outputs": [],
   "source": [
    "# Partiële afgeleiden:\n",
    "\n",
    "dempingdiffr = sp.diff(dempingsfactor, R)\n",
    "dempingdiffl = sp.diff(dempingsfactor, L)\n",
    "\n",
    "freqdiffl = sp.diff(resfreq, L)\n",
    "freqdiffc = sp.diff(resfreq, C)"
   ]
  },
  {
   "cell_type": "markdown",
   "metadata": {},
   "source": [
    "### Definieer de vergelijkingen voor de fouten"
   ]
  },
  {
   "cell_type": "code",
   "execution_count": 4,
   "metadata": {},
   "outputs": [],
   "source": [
    "sdemping = sp.sqrt( dempingdiffr**2 * sr**2 + dempingdiffl**2 * sl**2 )\n",
    "sfreq = sp.sqrt( freqdiffl**2 * sl**2 + freqdiffc**2 * sc**2 )"
   ]
  },
  {
   "cell_type": "markdown",
   "metadata": {},
   "source": [
    "### Specifieke waarden van oefening 3 en 4:"
   ]
  },
  {
   "cell_type": "code",
   "execution_count": 5,
   "metadata": {},
   "outputs": [],
   "source": [
    "rval = 100\n",
    "lval = 2.2*10**-3\n",
    "cval = 10**-5\n",
    "\n",
    "deltar = rval/(20)   # delta is delen door 20, dan nog eens delen soort sqrt(12) voor de s\n",
    "deltal = lval/(20)\n",
    "deltac = cval/(20)"
   ]
  },
  {
   "cell_type": "code",
   "execution_count": 6,
   "metadata": {},
   "outputs": [],
   "source": [
    "# Afronden van de hierboven bekomen waardes op juiste aantal BC\n",
    "\n",
    "def round_sf(number, significant):\n",
    "    return round(number, significant - len(str(number)))\n",
    "\n",
    "# DEZE FUNCTIE WERKT NIET DEFTIG DUS NIET GEBRUIKEN"
   ]
  },
  {
   "cell_type": "code",
   "execution_count": 7,
   "metadata": {},
   "outputs": [
    {
     "data": {
      "image/png": "[encoded data removed]",
      "text/latex": [
       "$$5.0$$"
      ],
      "text/plain": [
       "5.0"
      ]
     },
     "metadata": {},
     "output_type": "display_data"
    },
    {
     "data": {
      "image/png": "[encoded data removed]",
      "text/latex": [
       "$$0.00011$$"
      ],
      "text/plain": [
       "0.00011"
      ]
     },
     "metadata": {},
     "output_type": "display_data"
    },
    {
     "data": {
      "image/png": "[encoded data removed]",
      "text/latex": [
       "$$5.000000000000001e-07$$"
      ],
      "text/plain": [
       "5.000000000000001e-07"
      ]
     },
     "metadata": {},
     "output_type": "display_data"
    }
   ],
   "source": [
    "display(deltar)\n",
    "display(deltal)\n",
    "display(deltac)"
   ]
  },
  {
   "cell_type": "code",
   "execution_count": 8,
   "metadata": {},
   "outputs": [],
   "source": [
    "# Afronden na de eerste bewerking\n",
    "\n",
    "\n",
    "deltal = 2*10**-4\n",
    "deltac = 5*10**-7"
   ]
  },
  {
   "cell_type": "code",
   "execution_count": 9,
   "metadata": {},
   "outputs": [],
   "source": [
    "# Delen door wortel 12\n",
    "\n",
    "wortel = np.sqrt(12)\n",
    "\n",
    "srval = deltar/wortel\n",
    "slval = deltal/wortel\n",
    "scval = deltac/wortel"
   ]
  },
  {
   "cell_type": "code",
   "execution_count": 10,
   "metadata": {},
   "outputs": [
    {
     "data": {
      "image/png": "[encoded data removed]",
      "text/latex": [
       "$$1.4433756729740645$$"
      ],
      "text/plain": [
       "1.4433756729740645"
      ]
     },
     "metadata": {},
     "output_type": "display_data"
    },
    {
     "data": {
      "image/png": "[encoded data removed]",
      "text/latex": [
       "$$5.7735026918962585e-05$$"
      ],
      "text/plain": [
       "5.7735026918962585e-05"
      ]
     },
     "metadata": {},
     "output_type": "display_data"
    },
    {
     "data": {
      "image/png": "[encoded data removed]",
      "text/latex": [
       "$$1.4433756729740645e-07$$"
      ],
      "text/plain": [
       "1.4433756729740645e-07"
      ]
     },
     "metadata": {},
     "output_type": "display_data"
    }
   ],
   "source": [
    "display(srval)\n",
    "display(slval)\n",
    "display(scval)\n"
   ]
  },
  {
   "cell_type": "code",
   "execution_count": 11,
   "metadata": {},
   "outputs": [],
   "source": [
    "# Zelf afronden op resp. 2, 1, 2 BC:\n",
    "srval = 0.14\n",
    "slval = 6*10**-5\n",
    "scval = 1.4*10**-7"
   ]
  },
  {
   "cell_type": "markdown",
   "metadata": {},
   "source": [
    "### Resultaten:"
   ]
  },
  {
   "cell_type": "code",
   "execution_count": 12,
   "metadata": {},
   "outputs": [],
   "source": [
    "resultaatdemping = sdemping.subs({L:lval, R:rval, sr:srval, sl:slval})\n",
    "resultaatfreq = sfreq.subs({sl:slval, sc:scval, C:cval, L:lval})"
   ]
  },
  {
   "cell_type": "code",
   "execution_count": 13,
   "metadata": {},
   "outputs": [
    {
     "data": {
      "image/png": "[encoded data removed]",
      "text/latex": [
       "$$620.650840116299$$"
      ],
      "text/plain": [
       "620.650840116299"
      ]
     },
     "metadata": {},
     "output_type": "display_data"
    }
   ],
   "source": [
    "display(resultaatdemping)"
   ]
  },
  {
   "cell_type": "code",
   "execution_count": 14,
   "metadata": {},
   "outputs": [
    {
     "data": {
      "image/png": "[encoded data removed]",
      "text/latex": [
       "$$103.341977131345$$"
      ],
      "text/plain": [
       "103.341977131345"
      ]
     },
     "metadata": {},
     "output_type": "display_data"
    }
   ],
   "source": [
    "display(resultaatfreq)"
   ]
  },
  {
   "cell_type": "markdown",
   "metadata": {},
   "source": [
    "# Voor het practicum zelf"
   ]
  },
  {
   "cell_type": "markdown",
   "metadata": {},
   "source": [
    "### Metingen van oefening 3:"
   ]
  },
  {
   "cell_type": "code",
   "execution_count": 15,
   "metadata": {},
   "outputs": [],
   "source": [
    "# Berekenen van de onzekerheiden op de frequenties die berekend zijn\n",
    "# Eerste 5 metingen: frequentie signaal \n",
    "\n",
    "onzekerheidtijd = 0.5 *10**-6\n",
    "tijden = [36 *10**-6, 35 *10**-6, 39 *10**-6, 35 *10**-6, 37 *10**-6]"
   ]
  },
  {
   "cell_type": "code",
   "execution_count": 16,
   "metadata": {},
   "outputs": [
    {
     "data": {
      "image/png": "[encoded data removed]",
      "text/latex": [
       "$$111.37157970478891$$"
      ],
      "text/plain": [
       "111.37157970478891"
      ]
     },
     "metadata": {},
     "output_type": "display_data"
    },
    {
     "data": {
      "image/png": "[encoded data removed]",
      "text/latex": [
       "$$117.82658554890325$$"
      ],
      "text/plain": [
       "117.82658554890325"
      ]
     },
     "metadata": {},
     "output_type": "display_data"
    },
    {
     "data": {
      "image/png": "[encoded data removed]",
      "text/latex": [
       "$$94.89649394964263$$"
      ],
      "text/plain": [
       "94.89649394964263"
      ]
     },
     "metadata": {},
     "output_type": "display_data"
    },
    {
     "data": {
      "image/png": "[encoded data removed]",
      "text/latex": [
       "$$117.82658554890325$$"
      ],
      "text/plain": [
       "117.82658554890325"
      ]
     },
     "metadata": {},
     "output_type": "display_data"
    },
    {
     "data": {
      "image/png": "[encoded data removed]",
      "text/latex": [
       "$$105.4328468206037$$"
      ],
      "text/plain": [
       "105.4328468206037"
      ]
     },
     "metadata": {},
     "output_type": "display_data"
    }
   ],
   "source": [
    "for time in tijden: # Formule: wortel van: product van: (partiele afgeleide)^2 en (systematische fout gedeeld door sqrt(12))^2\n",
    "    display(time**(-2) * onzekerheidtijd/np.sqrt(12)) # wortel valt weg tegen kwadraten (product)"
   ]
  },
  {
   "cell_type": "markdown",
   "metadata": {},
   "source": [
    "### Metingen van oefening 4 - data onder 'oscilloscoop'"
   ]
  },
  {
   "cell_type": "code",
   "execution_count": 17,
   "metadata": {},
   "outputs": [],
   "source": [
    "tijden2 = [42 *10**-6, 48 *10**-6, 34 *10**-6, 36 *10**-6]\n",
    "onzekerheidtijd2 = 1 *10**-6"
   ]
  },
  {
   "cell_type": "code",
   "execution_count": 18,
   "metadata": {},
   "outputs": [
    {
     "data": {
      "image/png": "[encoded data removed]",
      "text/latex": [
       "$$163.6480354845878$$"
      ],
      "text/plain": [
       "163.6480354845878"
      ]
     },
     "metadata": {},
     "output_type": "display_data"
    },
    {
     "data": {
      "image/png": "[encoded data removed]",
      "text/latex": [
       "$$125.29302716788753$$"
      ],
      "text/plain": [
       "125.29302716788753"
      ]
     },
     "metadata": {},
     "output_type": "display_data"
    },
    {
     "data": {
      "image/png": "[encoded data removed]",
      "text/latex": [
       "$$249.71897456298694$$"
      ],
      "text/plain": [
       "249.71897456298694"
      ]
     },
     "metadata": {},
     "output_type": "display_data"
    },
    {
     "data": {
      "image/png": "[encoded data removed]",
      "text/latex": [
       "$$222.74315940957783$$"
      ],
      "text/plain": [
       "222.74315940957783"
      ]
     },
     "metadata": {},
     "output_type": "display_data"
    }
   ],
   "source": [
    "# ONZEKERHEID OP DE FREQUENTIES VAN METINGEN VRAAG 4\n",
    "for time in tijden2:\n",
    "    display(time**-2 * onzekerheidtijd2/np.sqrt(12))"
   ]
  },
  {
   "cell_type": "code",
   "execution_count": 19,
   "metadata": {},
   "outputs": [],
   "source": [
    "# Onzekerheid van faseverschillen voor oefening 4\n",
    "\n",
    "oawaarden1 = [0.6, 2, 1.6, 1.8, 1.6, 2, 2, 1.2, 0]\n",
    "obwaarden1 = [0.6, 3, 3.2, 2.4, 1.8, 3, 2.2, 3.2, 3.4]\n",
    "\n",
    "onzekerheidoa1 = 0.1\n",
    "onzekerheidob1 = onzekerheidoa1\n",
    "\n",
    "oawaarden2 = [1, 1.7]\n",
    "obwaarden2 = [1.10, 1.9]\n",
    "onzekerheidoa2 = 0.05\n",
    "onzekerheidob2 = onzekerheidoa2\n",
    "\n",
    "onzekerfase1 = []\n",
    "onzekerfase2 = []"
   ]
  },
  {
   "cell_type": "code",
   "execution_count": 20,
   "metadata": {},
   "outputs": [
    {
     "data": {
      "image/png": "[encoded data removed]",
      "text/latex": [
       "$$\\operatorname{asin}{\\left (\\frac{OA}{OB} \\right )}$$"
      ],
      "text/plain": [
       "    ⎛OA⎞\n",
       "asin⎜──⎟\n",
       "    ⎝OB⎠"
      ]
     },
     "metadata": {},
     "output_type": "display_data"
    }
   ],
   "source": [
    "OA = sp.symbols('OA')\n",
    "OB = sp.symbols('OB')\n",
    "fase = sp.asin(OA/OB)\n",
    "\n",
    "display(fase)"
   ]
  },
  {
   "cell_type": "code",
   "execution_count": 21,
   "metadata": {},
   "outputs": [
    {
     "data": {
      "image/png": "[encoded data removed]",
      "text/latex": [
       "$$\\sqrt{\\frac{OA^{2} onzekerheidob^{2}}{12 OB^{4} \\left(- \\frac{OA^{2}}{OB^{2}} + 1\\right)} + \\frac{onzekerheidoa^{2}}{12 OB^{2} \\left(- \\frac{OA^{2}}{OB^{2}} + 1\\right)}}$$"
      ],
      "text/plain": [
       "         _________________________________________\n",
       "        ╱   2              2                  2   \n",
       "       ╱  OA ⋅onzekerheidob      onzekerheidoa    \n",
       "      ╱   ────────────────── + ────────────────── \n",
       "     ╱           ⎛    2    ⎞          ⎛    2    ⎞ \n",
       "    ╱          4 ⎜  OA     ⎟        2 ⎜  OA     ⎟ \n",
       "   ╱      12⋅OB ⋅⎜- ─── + 1⎟   12⋅OB ⋅⎜- ─── + 1⎟ \n",
       "  ╱              ⎜    2    ⎟          ⎜    2    ⎟ \n",
       "╲╱               ⎝  OB     ⎠          ⎝  OB     ⎠ "
      ]
     },
     "metadata": {},
     "output_type": "display_data"
    }
   ],
   "source": [
    "onzekerheidoa = sp.symbols('onzekerheidoa')\n",
    "onzekerheidob = sp.symbols('onzekerheidob')\n",
    "sfase = sp.sqrt( sp.diff(fase, OA)**2 * onzekerheidoa**2 /12 + sp.diff(fase, OB)**2 * onzekerheidob**2 / 12)\n",
    "display(sfase)"
   ]
  },
  {
   "cell_type": "code",
   "execution_count": 22,
   "metadata": {},
   "outputs": [],
   "source": [
    "for i in range(len(oawaarden1)):\n",
    "    onzekerfase1.append(sfase.subs({OA:oawaarden1[i], OB:obwaarden1[i], onzekerheidoa:onzekerheidoa1, onzekerheidob:onzekerheidob1}))"
   ]
  },
  {
   "cell_type": "code",
   "execution_count": 23,
   "metadata": {},
   "outputs": [],
   "source": [
    "for i in range(len(oawaarden2)):\n",
    "    onzekerfase2.append(sfase.subs({OA:oawaarden2[i], OB:obwaarden2[i], onzekerheidoa:onzekerheidoa2, onzekerheidob:onzekerheidob2}))"
   ]
  },
  {
   "cell_type": "code",
   "execution_count": 24,
   "metadata": {},
   "outputs": [
    {
     "name": "stdout",
     "output_type": "stream",
     "text": [
      "[nan, 0.0155158222708544, 0.0116461873828114, 0.0227310302329159, 0.0468377918572847, 0.0155158222708544, 0.0425670139378726, 0.0103929654603778, 0.00490196078431373*sqrt(3)]\n"
     ]
    }
   ],
   "source": [
    "print(onzekerfase1)\n",
    "# LET OP: eerste is nan omdat OA=OB dus wordt gedeeld door nul, laatste is maal wortel drie"
   ]
  },
  {
   "cell_type": "code",
   "execution_count": 25,
   "metadata": {},
   "outputs": [
    {
     "name": "stdout",
     "output_type": "stream",
     "text": [
      "[0.0425670139378726, 0.0228252850818655]\n"
     ]
    }
   ],
   "source": [
    "print(onzekerfase2)"
   ]
  },
  {
   "cell_type": "code",
   "execution_count": 26,
   "metadata": {},
   "outputs": [],
   "source": [
    "phikes = []\n",
    "for i in range(len(oawaarden1)):\n",
    "    phikes.append(sp.asin(oawaarden1[i]/obwaarden1[i]))"
   ]
  },
  {
   "cell_type": "code",
   "execution_count": 27,
   "metadata": {},
   "outputs": [],
   "source": [
    "phikes2 = []\n",
    "for i in range(len(oawaarden2)):\n",
    "    phikes2.append(sp.asin(oawaarden2[i]/obwaarden2[i]))"
   ]
  },
  {
   "cell_type": "code",
   "execution_count": 28,
   "metadata": {},
   "outputs": [
    {
     "data": {
      "image/png": "[encoded data removed]",
      "text/latex": [
       "$$\\left [ 1.5707963267949, \\quad 0.729727656226966, \\quad 0.523598775598299, \\quad 0.848062078981481, \\quad 1.09491407713448, \\quad 0.729727656226966, \\quad 1.14109666064347, \\quad 0.384396774495639, \\quad 0\\right ]$$"
      ],
      "text/plain": [
       "[1.5707963267949, 0.729727656226966, 0.523598775598299, 0.848062078981481, 1.0\n",
       "9491407713448, 0.729727656226966, 1.14109666064347, 0.384396774495639, 0]"
      ]
     },
     "execution_count": 28,
     "metadata": {},
     "output_type": "execute_result"
    }
   ],
   "source": [
    "phikes"
   ]
  },
  {
   "cell_type": "code",
   "execution_count": 29,
   "metadata": {},
   "outputs": [
    {
     "data": {
      "image/png": "[encoded data removed]",
      "text/latex": [
       "$$\\left [ 1.14109666064347, \\quad 1.10784159885454\\right ]$$"
      ],
      "text/plain": [
       "[1.14109666064347, 1.10784159885454]"
      ]
     },
     "execution_count": 29,
     "metadata": {},
     "output_type": "execute_result"
    }
   ],
   "source": [
    "phikes2"
   ]
  },
  {
   "cell_type": "markdown",
   "metadata": {},
   "source": [
    "## NOG TE DOEN: metingen van OA en OB en daaruit faseverschil van oef 4"
   ]
  },
  {
   "cell_type": "markdown",
   "metadata": {},
   "source": [
    "### Metingen van oefening 5"
   ]
  },
  {
   "cell_type": "markdown",
   "metadata": {},
   "source": [
    "Verduidelijking van de gebruikte variabelen: de 6 metingen die hier zijn genomen zijn opgesplitst in twee datasets van beide lengte 3. Dit omdat hun systematische onzekerheden/fouten verschillen. Tijden3 en onzekerheidtijd3 horen samen, idem met 4. \n",
    "\n",
    "Daarnaast hebben we waarden voor d gemeten. Deze starten met index vanaf 1: dus we hebben dwaarden1 en dwaarden2. Beide ook andere onzekerheid: onzekerheidd1 en onzekerheidd2.\n",
    "\n",
    "Daarna bereken ik phiwaarden maar die had ik uiteindelijk niet nodig dus fuck mijn leven, moeite gedaan voor niks;\n",
    "\n",
    "Dan definieer ik de gebruikte formule voor phi symbolisch en bepaal ik afgeleiden: phidifft en phidiffd respectievelijk. De formule sphi is dan de formule voor de onzekerheid op phi (eerst symbolisch gedefinieerd). Dan bepalen van fouten voor beide datasets dus met twee berekeningen."
   ]
  },
  {
   "cell_type": "code",
   "execution_count": 30,
   "metadata": {},
   "outputs": [],
   "source": [
    "tijden3 = [116 *10**-6, 72 *10**-6, 48 *10**-6]\n",
    "tijden4 = [36*10**-6, 32 *10**-6, 26 *10**-6]\n",
    "\n",
    "onzekerheidtijd3 = 2*10**-6\n",
    "onzekerheidtijd4 = 1*10**-6"
   ]
  },
  {
   "cell_type": "code",
   "execution_count": 31,
   "metadata": {},
   "outputs": [],
   "source": [
    "dwaarden1 = [28 *10**-6, 16 *10**-6, 8 *10**-6]\n",
    "dwaarden2 = [0, 4 *10**-6, 6*10**-6]\n",
    "\n",
    "onzekerheidd1 = 2*10**-6\n",
    "onzekerheidd2 = 1*10**-6"
   ]
  },
  {
   "cell_type": "code",
   "execution_count": 32,
   "metadata": {},
   "outputs": [],
   "source": [
    "# Berekenen van alle phiwaarden: UITEINDELIJK NIET GEBRUIKT!!!!\n",
    "\n",
    "\n",
    "phiwaarden1 = []  # voor de eerste 3 datapunten\n",
    "\n",
    "for i in range(len(tijden3)):\n",
    "    phiwaarden1.append( 2*np.pi*(dwaarden1[i]/tijden3[i]))\n",
    "    \n",
    "# dit is de formule uit de voorbereidingsopgave"
   ]
  },
  {
   "cell_type": "code",
   "execution_count": 33,
   "metadata": {},
   "outputs": [],
   "source": [
    "# Voor de andere drie datapunten: \n",
    "\n",
    "phiwaarden2=[]\n",
    "\n",
    "for i in range(len(tijden4)):\n",
    "    phiwaarden2.append( 2*np.pi*(dwaarden2[i]/tijden4[i]))\n"
   ]
  },
  {
   "cell_type": "markdown",
   "metadata": {},
   "source": [
    "#### (De lijsten phiwaarden1 en phiwaarden2 bevatten de faseverschillen van oef 5)"
   ]
  },
  {
   "cell_type": "code",
   "execution_count": 34,
   "metadata": {},
   "outputs": [
    {
     "name": "stdout",
     "output_type": "stream",
     "text": [
      "[1.5166309362157622, 1.3962634015954636, 1.0471975511965976]\n"
     ]
    }
   ],
   "source": [
    "print(phiwaarden1)   # zelfde waarden als Seppe berekend had tijdens pract"
   ]
  },
  {
   "cell_type": "code",
   "execution_count": 35,
   "metadata": {},
   "outputs": [
    {
     "name": "stdout",
     "output_type": "stream",
     "text": [
      "[0.0, 0.7853981633974483, 1.4499658401183662]\n"
     ]
    }
   ],
   "source": [
    "print(phiwaarden2)   # zelfde waarden als Seppe berekend had tijdens pract"
   ]
  },
  {
   "cell_type": "code",
   "execution_count": 58,
   "metadata": {},
   "outputs": [],
   "source": [
    "freqvalues = [1 * 10**4, 1.5 * 10**4, 2 * 10**4, 2.5 * 10**4, 3 * 10**4, 3.5 * 10**4, 4 * 10**4, 2.4 * 10**4, 2.1 * 10**4, 2.9 * 10**4, 2.8 * 10**4]\n",
    "phivalues = [1.60, 1.14, 1.11, 0.73, 0.52, 0.85, 1.10, 0.73, 1.40, 0.38, 0]\n",
    "\n"
   ]
  },
  {
   "cell_type": "markdown",
   "metadata": {},
   "source": [
    "### Bepalen van onzekerheden op de phiwaarden"
   ]
  },
  {
   "cell_type": "code",
   "execution_count": 36,
   "metadata": {},
   "outputs": [],
   "source": [
    "d = sp.symbols('d')           # Definiëren van nieuwe symbolen\n",
    "t = sp.symbols('t')\n",
    "\n",
    "phi = 2*np.pi*(d/t)           # Formule uit de voorbereiding\n",
    "\n",
    "phidifft = sp.diff(phi, t)    # Afleiden van de formule\n",
    "phidiffd = sp.diff(phi, d)"
   ]
  },
  {
   "cell_type": "code",
   "execution_count": 37,
   "metadata": {},
   "outputs": [
    {
     "data": {
      "image/png": "[encoded data removed]",
      "text/latex": [
       "$$\\frac{6.28318530717959 d}{t}$$"
      ],
      "text/plain": [
       "6.28318530717959⋅d\n",
       "──────────────────\n",
       "        t         "
      ]
     },
     "metadata": {},
     "output_type": "display_data"
    },
    {
     "data": {
      "image/png": "[encoded data removed]",
      "text/latex": [
       "$$- \\frac{6.28318530717959 d}{t^{2}}$$"
      ],
      "text/plain": [
       "-6.28318530717959⋅d \n",
       "────────────────────\n",
       "          2         \n",
       "         t          "
      ]
     },
     "metadata": {},
     "output_type": "display_data"
    },
    {
     "data": {
      "image/png": "[encoded data removed]",
      "text/latex": [
       "$$\\frac{6.28318530717959}{t}$$"
      ],
      "text/plain": [
       "6.28318530717959\n",
       "────────────────\n",
       "       t        "
      ]
     },
     "metadata": {},
     "output_type": "display_data"
    }
   ],
   "source": [
    "display(phi)\n",
    "display(phidifft)\n",
    "display(phidiffd)\n",
    "# zijn correct"
   ]
  },
  {
   "cell_type": "code",
   "execution_count": 38,
   "metadata": {},
   "outputs": [
    {
     "data": {
      "image/png": "[encoded data removed]",
      "text/latex": [
       "$$\\sqrt{\\frac{3.28986813369645 d^{2}}{t^{4}} onzekerheidtijd^{2} + \\frac{3.28986813369645 onzekerheidd^{2}}{t^{2}}}$$"
      ],
      "text/plain": [
       "      _______________________________________________________________________\n",
       "     ╱                   2                2                                2 \n",
       "    ╱  3.28986813369645⋅d ⋅onzekerheidtijd    3.28986813369645⋅onzekerheidd  \n",
       "   ╱   ──────────────────────────────────── + ────────────────────────────── \n",
       "  ╱                      4                                   2               \n",
       "╲╱                      t                                   t                "
      ]
     },
     "metadata": {},
     "output_type": "display_data"
    }
   ],
   "source": [
    "onzekerheidtijd = sp.symbols('onzekerheidtijd')\n",
    "onzekerheidd = sp.symbols('onzekerheidd')\n",
    "\n",
    "sphi = sp.sqrt(phidifft**2 * (onzekerheidtijd**2)/12 + phidiffd**2 * (onzekerheidd**2)/12 )\n",
    "display(sphi)\n",
    "# Algemene uitdrukking, nu invullen voor beide sets datapunten (herinner: beide lengte 3)"
   ]
  },
  {
   "cell_type": "code",
   "execution_count": 39,
   "metadata": {},
   "outputs": [],
   "source": [
    "# EERSTE DATASET\n",
    "\n",
    "onzekerhedenphi1 = []\n",
    "sphi1 = sphi.subs({onzekerheidtijd:onzekerheidtijd3, onzekerheidd: onzekerheidd1})\n",
    "\n",
    "for i in range(len(tijden3)):\n",
    "    onzekerhedenphi1.append(sphi1.subs({t:tijden3[i], d:dwaarden1[i]}))"
   ]
  },
  {
   "cell_type": "code",
   "execution_count": 40,
   "metadata": {},
   "outputs": [],
   "source": [
    "# TWEEDE DATASET\n",
    "\n",
    "onzekerhedenphi2 = []\n",
    "sphi2 = sphi.subs({onzekerheidtijd:onzekerheidtijd4, onzekerheidd: onzekerheidd2})\n",
    "\n",
    "for i in range(len(tijden4)):\n",
    "    onzekerhedenphi2.append(sphi2.subs({t:tijden4[i], d:dwaarden2[i]}))"
   ]
  },
  {
   "cell_type": "markdown",
   "metadata": {},
   "source": [
    "## De gevonden onzekerheden voor phiwaarden van oef 5 zijn dan: "
   ]
  },
  {
   "cell_type": "code",
   "execution_count": 41,
   "metadata": {},
   "outputs": [
    {
     "name": "stdout",
     "output_type": "stream",
     "text": [
      "[0.0321705330637854, 0.0516123576394041, 0.0766174361822405]\n"
     ]
    }
   ],
   "source": [
    "print(onzekerhedenphi1)   # eerste dataset"
   ]
  },
  {
   "cell_type": "code",
   "execution_count": 42,
   "metadata": {},
   "outputs": [
    {
     "name": "stdout",
     "output_type": "stream",
     "text": [
      "[0.0503833156731727, 0.0571223358521731, 0.0715949757317718]\n"
     ]
    }
   ],
   "source": [
    "print(onzekerhedenphi2)   # tweede dataset"
   ]
  },
  {
   "cell_type": "code",
   "execution_count": null,
   "metadata": {},
   "outputs": [],
   "source": [
    "d = sp.symbols('d')\n",
    "t = sp.symbols('t')"
   ]
  },
  {
   "cell_type": "code",
   "execution_count": 44,
   "metadata": {},
   "outputs": [],
   "source": [
    "rval = 100\n",
    "lval = 2.2*10**-3\n",
    "cval = 10**-5\n",
    "\n",
    "def phi(omega, l=1, r=1, c=1):\n",
    "    return np.arctan((omega*l-1/(omega*c))/r)"
   ]
  },
  {
   "cell_type": "code",
   "execution_count": 59,
   "metadata": {},
   "outputs": [
    {
     "data": {
      "image/png": "[encoded data removed]",
      "text/plain": [
       "<Figure size 576x432 with 1 Axes>"
      ]
     },
     "metadata": {},
     "output_type": "display_data"
    }
   ],
   "source": [
    "# berekenen theoretische resonantiefrequentie\n",
    "\n",
    "f0 = 1/(np.sqrt(lval*cval)*2*np.pi)\n",
    "\n",
    "# theoretische curve tussen f0/4 en f0*2\n",
    "freq = np.linspace(f0/10, 50000, 2000)\n",
    "phi_theoretisch = phi(2*np.pi*freq, lval, rval, cval)\n",
    "\n",
    "# plotten theoretische curve en metingen\n",
    "fig, ax = plt.subplots(1,1, figsize=(8, 6))\n",
    "\n",
    "ax.plot((freq), abs(phi_theoretisch), linewidth=3, label = 'Theoretische curve')\n",
    "ax.plot(freqvalues, phivalues, 'o', label = 'Datapunten')\n",
    "\n",
    "\n",
    "\n",
    "# lay-out en labels\n",
    "ax.set_xlabel('Frequentie (Hz)', size=12)\n",
    "ax.set_ylabel('Grootte faseverschil $| \\phi |$ (rad)', size=12)\n",
    "\n",
    "plt.title('Grootte faseverschil  in functie van frequentie')\n",
    "\n",
    "plt.show()\n",
    "\n",
    "fig.savefig('theorie_data.pdf')"
   ]
  },
  {
   "cell_type": "code",
   "execution_count": null,
   "metadata": {},
   "outputs": [],
   "source": []
  }
 ],
 "metadata": {
  "kernelspec": {
   "display_name": "Python 3",
   "language": "python",
   "name": "python3"
  },
  "language_info": {
   "codemirror_mode": {
    "name": "ipython",
    "version": 3
   },
   "file_extension": ".py",
   "mimetype": "text/x-python",
   "name": "python",
   "nbconvert_exporter": "python",
   "pygments_lexer": "ipython3",
   "version": "3.6.5"
  }
 },
 "nbformat": 4,
 "nbformat_minor": 2
}
