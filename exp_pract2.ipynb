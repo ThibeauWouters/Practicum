{
 "cells": [
  {
   "cell_type": "markdown",
   "metadata": {},
   "source": [
    "# Practicum 2: Wetten van Kirchoff"
   ]
  },
  {
   "cell_type": "code",
   "execution_count": 1,
   "metadata": {},
   "outputs": [],
   "source": [
    "import matplotlib.pyplot as plt\n",
    "%matplotlib notebook\n",
    "import numpy as np\n",
    "import sympy as sp\n",
    "from IPython.display import display\n",
    "sp.init_printing()"
   ]
  },
  {
   "cell_type": "markdown",
   "metadata": {},
   "source": [
    "# 0. Vooraf: definiëren van functies, symbolen,..."
   ]
  },
  {
   "cell_type": "code",
   "execution_count": 2,
   "metadata": {},
   "outputs": [],
   "source": [
    "# Functie die symbolisch de foutenpropagatie weergeeft:\n",
    "\n",
    "def error(functie, variabelen, fouten):   # variabelen en fouten zijn twee lijsten met symbolen\n",
    "    fout = 0\n",
    "    \n",
    "    if len(variabelen)!= len(fouten):\n",
    "        raise ValueError('Lengte variabelen komt niet overeen met lengte fouten')\n",
    "        \n",
    "    for i in range(len(variabelen)):\n",
    "        fout += sp.diff(functie, variabelen[i])**2 * fouten[i]**2\n",
    "        \n",
    "    fout = sp.sqrt(fout)\n",
    "    return fout"
   ]
  },
  {
   "cell_type": "code",
   "execution_count": 3,
   "metadata": {},
   "outputs": [],
   "source": [
    "# Effectief de fouten berekenen voor een gegeven lijst van waarden:  WERKT NOG NIETTTT\n",
    "\n",
    "def errorcalc(functie, variabelen, waardenvar, fouten, waardenfouten): # variabelen en fouten zijn dictionaries!!\n",
    "    resultaten = []\n",
    "    fouten = []\n",
    "    \n",
    "    for i in range(len(variabelen)):\n",
    "        expr = functie\n",
    "        for variabele in variabelen:\n",
    "            print(variabele)\n",
    "            expr = expr.subs(variabele, waardenvar[str(variabele)][i])\n",
    "        resultaten.append(expr)\n",
    "    \n",
    "    #if len(variabelen)!= len(fouten):\n",
    "        #raise ValueError('Lengte variabelen komt niet overeen met lengte fouten')\n",
    "    \n",
    "    \n",
    "            \n",
    "    print('Berekende waarden zijn ',resultaten)\n",
    "    print('Berekende fouten zijn ', fouten)\n",
    "    \n",
    "    return"
   ]
  },
  {
   "cell_type": "code",
   "execution_count": null,
   "metadata": {},
   "outputs": [],
   "source": []
  },
  {
   "cell_type": "code",
   "execution_count": null,
   "metadata": {},
   "outputs": [],
   "source": []
  },
  {
   "cell_type": "markdown",
   "metadata": {},
   "source": [
    "## Opgaven van het practicum:"
   ]
  },
  {
   "cell_type": "markdown",
   "metadata": {},
   "source": [
    "### 1. Berekenen van de eerste opgave"
   ]
  },
  {
   "cell_type": "markdown",
   "metadata": {},
   "source": [
    "### 1.1 Ingeven symbolen en bepalen foutenpropagatieformule"
   ]
  },
  {
   "cell_type": "code",
   "execution_count": 4,
   "metadata": {},
   "outputs": [],
   "source": [
    "#var = np.loadtxt(\"bestand.txt\",skiprows=2,delimiter='\\t')\n",
    "\n",
    "V0, Vg, I = sp.symbols('V0 Vg I')\n",
    "variabelen = [V0,Vg,I]\n",
    "\n",
    "sV0, sVg, sI =sp.symbols('sV0, sVg, sI')\n",
    "deltavariabelen = [sV0,sVg, sI]"
   ]
  },
  {
   "cell_type": "code",
   "execution_count": 5,
   "metadata": {},
   "outputs": [
    {
     "data": {
      "image/png": "[encoded data removed]",
      "text/latex": [
       "$$\\frac{1}{I} \\left(V_{0} - Vg\\right)$$"
      ],
      "text/plain": [
       "V₀ - Vg\n",
       "───────\n",
       "   I   "
      ]
     },
     "metadata": {},
     "output_type": "display_data"
    }
   ],
   "source": [
    "inwendigeweerstand = (V0 - Vg)/I\n",
    "display(inwendigeweerstand)"
   ]
  },
  {
   "cell_type": "code",
   "execution_count": 6,
   "metadata": {},
   "outputs": [],
   "source": [
    "foutenpropagatie = error(inwendigeweerstand, variabelen, deltavariabelen)"
   ]
  },
  {
   "cell_type": "code",
   "execution_count": 7,
   "metadata": {},
   "outputs": [
    {
     "data": {
      "image/png": "[encoded data removed]",
      "text/latex": [
       "$$\\sqrt{\\frac{sV_{0}^{2}}{I^{2}} + \\frac{sVg^{2}}{I^{2}} + \\frac{sI^{2}}{I^{4}} \\left(V_{0} - Vg\\right)^{2}}$$"
      ],
      "text/plain": [
       "      ______________________________\n",
       "     ╱    2      2     2          2 \n",
       "    ╱  sV₀    sVg    sI ⋅(V₀ - Vg)  \n",
       "   ╱   ──── + ──── + ────────────── \n",
       "  ╱      2      2           4       \n",
       "╲╱      I      I           I        "
      ]
     },
     "metadata": {},
     "output_type": "display_data"
    }
   ],
   "source": [
    "display(foutenpropagatie)"
   ]
  },
  {
   "cell_type": "markdown",
   "metadata": {},
   "source": [
    "## 1.2 Eerste spanningsbron"
   ]
  },
  {
   "cell_type": "code",
   "execution_count": 8,
   "metadata": {},
   "outputs": [],
   "source": [
    "# Ingeven van de waarden VOOR DE EERSTE :\n",
    "\n",
    "vg1  = [4.68 , 4.71 , 4.74 , 4.67 , 4.71]\n",
    "svg1  = [0.02]   # let op delta syst is 0.06 niet 0.03 --> 0.06/sqrt(12)\n",
    "\n",
    "v01  = [4.79]\n",
    "sv01 = [0.02]\n",
    "\n",
    "I1   = [6.26 *10**-3, 4.78 *10**-3, 3.20 *10**-3, 6.88 *10**-3, 4.73 *10**-3]\n",
    "sI1  = [0.02 *10**-3, 0.02 *10**-3, 0.01 *10**-3, 0.02 *10**-3, 0.02 *10**-3]\n",
    "\n"
   ]
  },
  {
   "cell_type": "code",
   "execution_count": 9,
   "metadata": {},
   "outputs": [
    {
     "data": {
      "text/plain": [
       "True"
      ]
     },
     "execution_count": 9,
     "metadata": {},
     "output_type": "execute_result"
    }
   ],
   "source": [
    "len(vg1) == len(I1)"
   ]
  },
  {
   "cell_type": "code",
   "execution_count": 10,
   "metadata": {},
   "outputs": [
    {
     "data": {
      "image/png": "[encoded data removed]",
      "text/latex": [
       "$$\\left [ 17.5718849840256, \\quad 16.7364016736402, \\quad 15.625, \\quad 17.4418604651163, \\quad 16.9133192389006\\right ]$$"
      ],
      "text/plain": [
       "[17.5718849840256, 16.7364016736402, 15.625, 17.4418604651163, 16.913319238900\n",
       "6]"
      ]
     },
     "metadata": {},
     "output_type": "display_data"
    }
   ],
   "source": [
    "weerstanden1 = []\n",
    "for i in range(len(vg1)):\n",
    "    weerstanden1.append(inwendigeweerstand.subs(  {V0:v01[0], Vg:vg1[i],I:I1[i]}     ))\n",
    "    \n",
    "display(weerstanden1)"
   ]
  },
  {
   "cell_type": "code",
   "execution_count": 11,
   "metadata": {},
   "outputs": [],
   "source": [
    "foutenweerstanden1 = []\n",
    "\n",
    "for i in range(len(vg1)):\n",
    "    foutenweerstanden1.append(foutenpropagatie.subs(    {V0:v01[0], sV0:sv01[0], Vg:vg1[i], sVg:svg1[0], I:I1[i], sI:sI1[i]}     ))"
   ]
  },
  {
   "cell_type": "code",
   "execution_count": 12,
   "metadata": {},
   "outputs": [
    {
     "data": {
      "image/png": "[encoded data removed]",
      "text/latex": [
       "$$\\left [ 4.51860295605143, \\quad 5.9176259068422, \\quad 8.83896963371812, \\quad 4.11139859233778, \\quad 5.98018899099293\\right ]$$"
      ],
      "text/plain": [
       "[4.51860295605143, 5.9176259068422, 8.83896963371812, 4.11139859233778, 5.9801\n",
       "8899099293]"
      ]
     },
     "metadata": {},
     "output_type": "display_data"
    }
   ],
   "source": [
    "display(foutenweerstanden1)"
   ]
  },
  {
   "cell_type": "code",
   "execution_count": 13,
   "metadata": {},
   "outputs": [],
   "source": [
    "# Voor de rest van de oefening: gewogen gemiddelde bepalen\n",
    "\n",
    "gewichten1 = []\n",
    "\n",
    "for i in range(len(foutenweerstanden1)):\n",
    "    gewichten1.append((foutenweerstanden1[i])**(-2))"
   ]
  },
  {
   "cell_type": "code",
   "execution_count": 14,
   "metadata": {},
   "outputs": [
    {
     "data": {
      "image/png": "[encoded data removed]",
      "text/latex": [
       "$$\\left [ 0.0489769386673606, \\quad 0.0285565005601358, \\quad 0.0127996093869206, \\quad 0.059159001368775, \\quad 0.0279621255720389\\right ]$$"
      ],
      "text/plain": [
       "[0.0489769386673606, 0.0285565005601358, 0.0127996093869206, 0.059159001368775\n",
       ", 0.0279621255720389]"
      ]
     },
     "execution_count": 14,
     "metadata": {},
     "output_type": "execute_result"
    }
   ],
   "source": [
    "gewichten1"
   ]
  },
  {
   "cell_type": "code",
   "execution_count": 15,
   "metadata": {},
   "outputs": [
    {
     "data": {
      "image/png": "[encoded data removed]",
      "text/latex": [
       "$$0.177454175555231$$"
      ],
      "text/plain": [
       "0.177454175555231"
      ]
     },
     "metadata": {},
     "output_type": "display_data"
    }
   ],
   "source": [
    "sumgewichten1 = sum(gewichten1)\n",
    "display(sumgewichten1)"
   ]
  },
  {
   "cell_type": "markdown",
   "metadata": {},
   "source": [
    "### 1.2.1 Fout op gewogen gemiddelde:"
   ]
  },
  {
   "cell_type": "code",
   "execution_count": 16,
   "metadata": {},
   "outputs": [
    {
     "data": {
      "image/png": "[encoded data removed]",
      "text/latex": [
       "$$2.37386976226269$$"
      ],
      "text/plain": [
       "2.37386976226269"
      ]
     },
     "metadata": {},
     "output_type": "display_data"
    }
   ],
   "source": [
    "epsilon1 = (sp.sqrt(sumgewichten1))**(-1)\n",
    "display(epsilon1)"
   ]
  },
  {
   "cell_type": "code",
   "execution_count": 17,
   "metadata": {},
   "outputs": [
    {
     "data": {
      "image/png": "[encoded data removed]",
      "text/latex": [
       "$$\\left [ 0.860617133132537, \\quad 0.477933063767965, \\quad 0.199993896670634, \\quad 1.0318430471298, \\quad 0.472932356398121\\right ]$$"
      ],
      "text/plain": [
       "[0.860617133132537, 0.477933063767965, 0.199993896670634, 1.0318430471298, 0.4\n",
       "72932356398121]"
      ]
     },
     "metadata": {},
     "output_type": "display_data"
    }
   ],
   "source": [
    "gewogenwaarden1 = []\n",
    "\n",
    "for i in range(len(gewichten1)):\n",
    "    gewogenwaarden1.append(gewichten1[i]*weerstanden1[i])\n",
    "    \n",
    "display(gewogenwaarden1)"
   ]
  },
  {
   "cell_type": "code",
   "execution_count": 18,
   "metadata": {},
   "outputs": [],
   "source": [
    "teller1 = sum(gewogenwaarden1)"
   ]
  },
  {
   "cell_type": "code",
   "execution_count": 19,
   "metadata": {},
   "outputs": [],
   "source": [
    "gewogengemiddelde = teller1/sumgewichten1"
   ]
  },
  {
   "cell_type": "markdown",
   "metadata": {},
   "source": [
    "### 1.2.2 Gevonden waarde voor gewogen gemiddelde van eerste weerstand"
   ]
  },
  {
   "cell_type": "code",
   "execution_count": 20,
   "metadata": {},
   "outputs": [
    {
     "data": {
      "image/png": "[encoded data removed]",
      "text/latex": [
       "$$17.1498894718983$$"
      ],
      "text/plain": [
       "17.1498894718983"
      ]
     },
     "metadata": {},
     "output_type": "display_data"
    }
   ],
   "source": [
    "display(gewogengemiddelde)"
   ]
  },
  {
   "cell_type": "code",
   "execution_count": null,
   "metadata": {},
   "outputs": [],
   "source": []
  },
  {
   "cell_type": "code",
   "execution_count": 21,
   "metadata": {},
   "outputs": [],
   "source": [
    "# Ingeven van de waarden VOOR DE EERSTE :\n",
    "\n",
    "vg2   = [10.63 , 10.45 , 10.39 , 10.82 , 10.64]\n",
    "foutvg2  = [0.03]   # let op delta syst is 0.06 niet 0.03 --> 0.06/sqrt(12)\n",
    "\n",
    "v02  = [11.21]\n",
    "foutv02 = [0.12]\n",
    "\n",
    "I2   = [10.78 *10**-3, 14   *10**-3, 15.28 *10**-3, 7.30 *10**-3, 10.58 *10**-3]\n",
    "foutI2  = [0.03 *10**-3, 0.04 *10**-3, 0.05 *10**-3, 0.02 *10**-3, 0.03 *10**-3]\n"
   ]
  },
  {
   "cell_type": "code",
   "execution_count": 22,
   "metadata": {},
   "outputs": [
    {
     "data": {
      "image/png": "[encoded data removed]",
      "text/latex": [
       "$$\\left [ 53.8033395176252, \\quad 54.2857142857143, \\quad 53.6649214659685, \\quad 53.4246575342468, \\quad 53.875236294896\\right ]$$"
      ],
      "text/plain": [
       "[53.8033395176252, 54.2857142857143, 53.6649214659685, 53.4246575342468, 53.87\n",
       "5236294896]"
      ]
     },
     "metadata": {},
     "output_type": "display_data"
    }
   ],
   "source": [
    "weerstanden2 = []\n",
    "for i in range(len(vg2)):\n",
    "    weerstanden2.append(inwendigeweerstand.subs(  {V0:v02[0], Vg:vg2[i],I:I2[i]}     ))\n",
    "    \n",
    "display(weerstanden2)"
   ]
  },
  {
   "cell_type": "code",
   "execution_count": 23,
   "metadata": {},
   "outputs": [],
   "source": [
    "foutenweerstanden2 = []\n",
    "\n",
    "for i in range(len(vg2)):\n",
    "    foutenweerstanden2.append(foutenpropagatie.subs({V0:v02[0], sV0:foutv02[0], Vg:vg2[i], sVg:foutvg2[0], I:I2[i], sI:foutI2[i]} )) "
   ]
  },
  {
   "cell_type": "code",
   "execution_count": 24,
   "metadata": {},
   "outputs": [
    {
     "data": {
      "image/png": "[encoded data removed]",
      "text/latex": [
       "$$\\left [ 11.4752968181597, \\quad 8.83658764076164, \\quad 8.09700712371707, \\quad 16.9449018685844, \\quad 11.6922238054903\\right ]$$"
      ],
      "text/plain": [
       "[11.4752968181597, 8.83658764076164, 8.09700712371707, 16.9449018685844, 11.69\n",
       "22238054903]"
      ]
     },
     "metadata": {},
     "output_type": "display_data"
    }
   ],
   "source": [
    "display(foutenweerstanden2)"
   ]
  },
  {
   "cell_type": "code",
   "execution_count": 25,
   "metadata": {},
   "outputs": [],
   "source": [
    "# Voor de rest van de oefening: gewogen gemiddelde bepalen\n",
    "\n",
    "gewichten2 = []\n",
    "\n",
    "for i in range(len(foutenweerstanden2)):\n",
    "    gewichten2.append((foutenweerstanden2[i])**(-2))"
   ]
  },
  {
   "cell_type": "code",
   "execution_count": 26,
   "metadata": {},
   "outputs": [
    {
     "data": {
      "image/png": "[encoded data removed]",
      "text/latex": [
       "$$\\left [ 0.00759402713292279, \\quad 0.0128065108493176, \\quad 0.0152528485226444, \\quad 0.00348274665530142, \\quad 0.00731485565345334\\right ]$$"
      ],
      "text/plain": [
       "[0.00759402713292279, 0.0128065108493176, 0.0152528485226444, 0.00348274665530\n",
       "142, 0.00731485565345334]"
      ]
     },
     "execution_count": 26,
     "metadata": {},
     "output_type": "execute_result"
    }
   ],
   "source": [
    "gewichten2"
   ]
  },
  {
   "cell_type": "code",
   "execution_count": 27,
   "metadata": {},
   "outputs": [
    {
     "data": {
      "image/png": "[encoded data removed]",
      "text/latex": [
       "$$0.0464509888136395$$"
      ],
      "text/plain": [
       "0.0464509888136395"
      ]
     },
     "metadata": {},
     "output_type": "display_data"
    }
   ],
   "source": [
    "sumgewichten2 = sum(gewichten2)\n",
    "display(sumgewichten2)"
   ]
  },
  {
   "cell_type": "markdown",
   "metadata": {},
   "source": [
    "### 1.2.3: Fout op tweede gewogen gemiddelde"
   ]
  },
  {
   "cell_type": "code",
   "execution_count": 28,
   "metadata": {},
   "outputs": [
    {
     "data": {
      "image/png": "[encoded data removed]",
      "text/latex": [
       "$$4.63983480449432$$"
      ],
      "text/plain": [
       "4.63983480449432"
      ]
     },
     "metadata": {},
     "output_type": "display_data"
    }
   ],
   "source": [
    "epsilon2 = (sp.sqrt(sumgewichten2))**(-1)\n",
    "display(epsilon2)"
   ]
  },
  {
   "cell_type": "code",
   "execution_count": 29,
   "metadata": {},
   "outputs": [
    {
     "data": {
      "image/png": "[encoded data removed]",
      "text/latex": [
       "$$\\left [ 0.408584020138703, \\quad 0.695210588962954, \\quad 0.818542918100025, \\quad 0.186064547338022, \\quad 0.394089576792855\\right ]$$"
      ],
      "text/plain": [
       "[0.408584020138703, 0.695210588962954, 0.818542918100025, 0.186064547338022, 0\n",
       ".394089576792855]"
      ]
     },
     "metadata": {},
     "output_type": "display_data"
    }
   ],
   "source": [
    "gewogenwaarden2 = []\n",
    "\n",
    "for i in range(len(gewichten2)):\n",
    "    gewogenwaarden2.append(gewichten2[i]*weerstanden2[i])\n",
    "    \n",
    "display(gewogenwaarden2)"
   ]
  },
  {
   "cell_type": "code",
   "execution_count": 30,
   "metadata": {},
   "outputs": [],
   "source": [
    "teller2 = sum(gewogenwaarden2)"
   ]
  },
  {
   "cell_type": "code",
   "execution_count": 31,
   "metadata": {},
   "outputs": [],
   "source": [
    "gewogengemiddelde2 = teller2/sumgewichten2"
   ]
  },
  {
   "cell_type": "markdown",
   "metadata": {},
   "source": [
    "### 1.2.4 Gewogen gemiddelde van tweede"
   ]
  },
  {
   "cell_type": "code",
   "execution_count": 32,
   "metadata": {},
   "outputs": [
    {
     "data": {
      "image/png": "[encoded data removed]",
      "text/latex": [
       "$$53.8738079693526$$"
      ],
      "text/plain": [
       "53.8738079693526"
      ]
     },
     "metadata": {},
     "output_type": "display_data"
    }
   ],
   "source": [
    "display(gewogengemiddelde2)"
   ]
  },
  {
   "cell_type": "markdown",
   "metadata": {},
   "source": [
    "# Wetten van fucking Kirchofffff"
   ]
  },
  {
   "cell_type": "markdown",
   "metadata": {},
   "source": [
    "## 1) Eerste circuit, eerste tabel!!"
   ]
  },
  {
   "cell_type": "code",
   "execution_count": 57,
   "metadata": {},
   "outputs": [],
   "source": [
    "# Definiëren van de functies en symbolen\n",
    "\n",
    "itot, i1, i2 = sp.symbols('itot i1 i2')\n",
    "voverbron, voverr1, voverr2 = sp.symbols('voverbron voverr1 voverr2')\n",
    "\n",
    "formule11 = itot - i1 - i2\n",
    "formule12 = voverbron - voverr1\n",
    "formule13 = voverbron - voverr2"
   ]
  },
  {
   "cell_type": "code",
   "execution_count": 72,
   "metadata": {},
   "outputs": [],
   "source": [
    "# Waarden\n",
    "\n",
    "v = 10,27\n",
    "onzekerv = 0.11\n",
    "\n",
    "itotval = 0.09 *10**-3\n",
    "i1val = 0.03*10**-3\n",
    "i2val = 0.03 *10**-3\n",
    "\n",
    "onzekeri = 0.01 *10**-3"
   ]
  },
  {
   "cell_type": "code",
   "execution_count": 66,
   "metadata": {},
   "outputs": [],
   "source": [
    "onzekerv = onzekerv/np.sqrt(12)\n",
    "onzekeri = onzekerv/np.sqrt(12)"
   ]
  },
  {
   "cell_type": "code",
   "execution_count": 67,
   "metadata": {},
   "outputs": [
    {
     "data": {
      "image/png": "[encoded data removed]",
      "text/latex": [
       "$$\\sqrt{di_{1}^{2} + di_{2}^{2} + ditot^{2}}$$"
      ],
      "text/plain": [
       "   ______________________\n",
       "  ╱    2      2        2 \n",
       "╲╱  di₁  + di₂  + ditot  "
      ]
     },
     "metadata": {},
     "output_type": "display_data"
    }
   ],
   "source": [
    "# Bepaal formule voor de onzekerheden:\n",
    "ditot, di1, di2 = sp.symbols('ditot di1 di2')\n",
    "foutformule11 = error(formule11, [itot, i1, i2], [ditot, di1, di2])\n",
    "display(foutformule11)"
   ]
  },
  {
   "cell_type": "code",
   "execution_count": 68,
   "metadata": {},
   "outputs": [
    {
     "data": {
      "image/png": "[encoded data removed]",
      "text/latex": [
       "$$\\sqrt{dvoverbron^{2} + dvoverr_{1}^{2}}$$"
      ],
      "text/plain": [
       "   _________________________\n",
       "  ╱           2           2 \n",
       "╲╱  dvoverbron  + dvoverr₁  "
      ]
     },
     "metadata": {},
     "output_type": "display_data"
    }
   ],
   "source": [
    "dvoverbron, dvoverr1, dvoverr2 = sp.symbols('dvoverbron dvoverr1 dvoverr2')\n",
    "foutformule12 = error(formule12, [voverbron, voverr1], [dvoverbron, dvoverr1])\n",
    "display(foutformule12)"
   ]
  },
  {
   "cell_type": "code",
   "execution_count": 69,
   "metadata": {},
   "outputs": [
    {
     "data": {
      "image/png": "[encoded data removed]",
      "text/latex": [
       "$$\\sqrt{dvoverbron^{2} + dvoverr_{2}^{2}}$$"
      ],
      "text/plain": [
       "   _________________________\n",
       "  ╱           2           2 \n",
       "╲╱  dvoverbron  + dvoverr₂  "
      ]
     },
     "metadata": {},
     "output_type": "display_data"
    }
   ],
   "source": [
    "foutformule13 = error(formule13, [voverbron, voverr2], [dvoverbron, dvoverr2])\n",
    "display(foutformule13)"
   ]
  },
  {
   "cell_type": "code",
   "execution_count": 70,
   "metadata": {},
   "outputs": [],
   "source": [
    "onzekerhedeneerste = []\n",
    "\n",
    "onzekerhedeneerste.append(foutformule11.subs({ditot:onzekeri, di1:onzekeri, di2:onzekeri}))\n",
    "onzekerhedeneerste.append(foutformule12.subs({dvoverbron: onzekerv, dvoverr1:onzekerv}))\n",
    "onzekerhedeneerste.append(foutformule13.subs({dvoverbron: onzekerv, dvoverr2:onzekerv}))"
   ]
  },
  {
   "cell_type": "code",
   "execution_count": 71,
   "metadata": {},
   "outputs": [
    {
     "data": {
      "image/png": "[encoded data removed]",
      "text/latex": [
       "$$\\left [ 0.0158771324027147, \\quad 0.0449073119510249, \\quad 0.0449073119510249\\right ]$$"
      ],
      "text/plain": [
       "[0.0158771324027147, 0.0449073119510249, 0.0449073119510249]"
      ]
     },
     "execution_count": 71,
     "metadata": {},
     "output_type": "execute_result"
    }
   ],
   "source": [
    "onzekerhedeneerste"
   ]
  },
  {
   "cell_type": "code",
   "execution_count": null,
   "metadata": {},
   "outputs": [],
   "source": []
  },
  {
   "cell_type": "code",
   "execution_count": null,
   "metadata": {},
   "outputs": [],
   "source": []
  },
  {
   "cell_type": "code",
   "execution_count": 73,
   "metadata": {},
   "outputs": [],
   "source": [
    "#circuitjeee"
   ]
  },
  {
   "cell_type": "code",
   "execution_count": 75,
   "metadata": {},
   "outputs": [],
   "source": [
    "vv1, vv2, vr1, vr2, vr3, vr4, vr5 = sp.symbols('vv1 vv2 vr1 vr2 vr3 vr4 vr5') \n",
    "dvv1, dvv2, dvr1, dvr2, dvr3, dvr4, dvr5 = sp.symbols('dvv1 dvv2 dvr1 dvr2 dvr3 dvr4 dvr5')\n",
    "i3 = sp.symbols('i3')"
   ]
  },
  {
   "cell_type": "code",
   "execution_count": 76,
   "metadata": {},
   "outputs": [],
   "source": [
    "function1 = i3 - i2 - i1\n",
    "function2 = vv1 - vr4 - vr5 - vr1\n",
    "function3 = vv2 - vr3 - vr2 + vv1 - vr4 - vr5"
   ]
  },
  {
   "cell_type": "code",
   "execution_count": 77,
   "metadata": {},
   "outputs": [],
   "source": [
    "i1val = 4.22 * 10**-3\n",
    "i2val = -3.86 * 10**-3\n",
    "i3val = 0.35 * 10**-3\n",
    "\n",
    "vv1val = 4.79\n",
    "vv2val = 11.00\n",
    "vr1val = 4.20\n",
    "vr2val = 4.68\n",
    "vr3val = 2.13\n",
    "vr4val = 0.28\n",
    "vr5val = 0.34\n",
    "\n",
    "di1val = 0.05* 10**-3\n",
    "di2val = 0.05* 10**-3\n",
    "di3val = 0.01* 10**-3\n",
    "\n",
    "dvv1val = 0.06\n",
    "dvv2val = 0.12\n",
    "dvr1val = 0.05\n",
    "dvr2val = 0.06\n",
    "dvr3val = 0.03\n",
    "dvr4val = 0.01\n",
    "dvr5val = 0.01"
   ]
  },
  {
   "cell_type": "code",
   "execution_count": 78,
   "metadata": {},
   "outputs": [],
   "source": [
    "di1val = di1val/np.sqrt(12)\n",
    "di2val = di2val/np.sqrt(12)\n",
    "di3val = di3val/np.sqrt(12)\n",
    "\n",
    "dvv1val = dvv1val/np.sqrt(12)\n",
    "dvv2val = dvv2val/np.sqrt(12)\n",
    "dvr1val = dvr1val/np.sqrt(12)\n",
    "dvr2val = dvr2val/np.sqrt(12)\n",
    "dvr3val = dvr3val/np.sqrt(12)\n",
    "dvr4val = dvr4val/np.sqrt(12)\n",
    "dvr5val = dvr5val/np.sqrt(12)"
   ]
  },
  {
   "cell_type": "code",
   "execution_count": 83,
   "metadata": {},
   "outputs": [],
   "source": [
    "#Berekeneneneenene\n",
    "\n",
    "result1 = function1.subs({i1:i1val, i2:i2val, i3:i3val})\n",
    "result2 = function2.subs({vv1:vv1val , vr4:vr4val , vr5:vr5val , vr1:vr1val })\n",
    "result3 = function3.subs({vv2:vv2val , vr3:vr3val , vr2:vr2val , vv1:vv1val , vr4:vr4val , vr5:vr5val })"
   ]
  },
  {
   "cell_type": "code",
   "execution_count": 84,
   "metadata": {},
   "outputs": [
    {
     "data": {
      "image/png": "[encoded data removed]",
      "text/latex": [
       "$$-9.99999999999965 \\cdot 10^{-6}$$"
      ],
      "text/plain": [
       "-9.99999999999965e-6"
      ]
     },
     "metadata": {},
     "output_type": "display_data"
    },
    {
     "data": {
      "image/png": "[encoded data removed]",
      "text/latex": [
       "$$-0.0300000000000002$$"
      ],
      "text/plain": [
       "-0.0300000000000002"
      ]
     },
     "metadata": {},
     "output_type": "display_data"
    },
    {
     "data": {
      "image/png": "[encoded data removed]",
      "text/latex": [
       "$$8.36$$"
      ],
      "text/plain": [
       "8.36000000000000"
      ]
     },
     "metadata": {},
     "output_type": "display_data"
    }
   ],
   "source": [
    "display(result1, result2, result3)"
   ]
  },
  {
   "cell_type": "code",
   "execution_count": 86,
   "metadata": {},
   "outputs": [],
   "source": [
    "di3 = sp.symbols('di3')\n",
    "errorfunction1 = error(function1, [i1, i2, i3], [di1, di2, di3])\n",
    "errorfunction2 = error(function2, [vv1, vr4, vr5, vr1], [dvv1, dvr4, dvr5, dvr1])\n",
    "errorfunction3 = error(function3, [vv2, vr3, vr2, vv1, vr4, vr5], [dvv2, dvr3, dvr2, dvv1, dvr4, dvr5])"
   ]
  },
  {
   "cell_type": "code",
   "execution_count": 87,
   "metadata": {},
   "outputs": [],
   "source": [
    "foutjesss = []\n",
    "\n",
    "foutjesss.append(errorfunction1.subs({di1:di1val, di2:di2val, di3:di3val}))\n",
    "foutjesss.append(errorfunction2.subs({dvv1:dvv1val , dvr4:dvr4val , dvr5:dvr5val , dvr1:dvr1val }))\n",
    "foutjesss.append(errorfunction3.subs({dvv2:dvv2val , dvr3:dvr3val , dvr2:dvr2val , dvv1:dvv1val , dvr4:dvr4val , dvr5:dvr5val}))"
   ]
  },
  {
   "cell_type": "code",
   "execution_count": 88,
   "metadata": {},
   "outputs": [
    {
     "data": {
      "image/png": "[encoded data removed]",
      "text/latex": [
       "$$\\left [ 2.06155281280883 \\cdot 10^{-5}, \\quad 0.0229128784747792, \\quad 0.043493294502333\\right ]$$"
      ],
      "text/plain": [
       "[2.06155281280883e-5, 0.0229128784747792, 0.043493294502333]"
      ]
     },
     "execution_count": 88,
     "metadata": {},
     "output_type": "execute_result"
    }
   ],
   "source": [
    "foutjesss"
   ]
  },
  {
   "cell_type": "code",
   "execution_count": 90,
   "metadata": {},
   "outputs": [],
   "source": [
    "R2, R1, V2 = sp.symbols('R2 R1 V2')\n",
    "dR2, dR1, dV2 = sp.symbols('dR2 dR1 dV2')\n",
    "\n",
    "thevspanning = (R2/(R1+R2))*V2"
   ]
  },
  {
   "cell_type": "code",
   "execution_count": 92,
   "metadata": {},
   "outputs": [],
   "source": [
    "thevfout = error(thevspanning, [R1, R2, V2], [dR1, dR2, dV2])"
   ]
  },
  {
   "cell_type": "code",
   "execution_count": 93,
   "metadata": {},
   "outputs": [],
   "source": [
    "lolz =  thevfout.subs({dR1:10/np.sqrt(12), dR2:15/np.sqrt(12), dV2: 0.12/np.sqrt(12)})"
   ]
  },
  {
   "cell_type": "code",
   "execution_count": 94,
   "metadata": {},
   "outputs": [
    {
     "data": {
      "image/png": "[encoded data removed]",
      "text/latex": [
       "$$\\sqrt{\\frac{8.33333333333334 R_{2}^{2} V_{2}^{2}}{\\left(R_{1} + R_{2}\\right)^{4}} + \\frac{0.0012 R_{2}^{2}}{\\left(R_{1} + R_{2}\\right)^{2}} + 18.75 \\left(- \\frac{R_{2} V_{2}}{\\left(R_{1} + R_{2}\\right)^{2}} + \\frac{V_{2}}{R_{1} + R_{2}}\\right)^{2}}$$"
      ],
      "text/plain": [
       "      ________________________________________________________________________\n",
       "     ╱                    2   2            2                                 2\n",
       "    ╱  8.33333333333334⋅R₂ ⋅V₂    0.0012⋅R₂          ⎛    R₂⋅V₂         V₂  ⎞ \n",
       "   ╱   ──────────────────────── + ────────── + 18.75⋅⎜- ────────── + ───────⎟ \n",
       "  ╱                    4                   2         ⎜           2   R₁ + R₂⎟ \n",
       "╲╱            (R₁ + R₂)           (R₁ + R₂)          ⎝  (R₁ + R₂)           ⎠ \n",
       "\n",
       "_\n",
       " \n",
       " \n",
       " \n",
       " \n",
       " "
      ]
     },
     "execution_count": 94,
     "metadata": {},
     "output_type": "execute_result"
    }
   ],
   "source": [
    "lolz"
   ]
  },
  {
   "cell_type": "code",
   "execution_count": 96,
   "metadata": {},
   "outputs": [],
   "source": [
    "lolz2 = lolz.subs({R1:1000, R2: 1500, V2:10.97})"
   ]
  },
  {
   "cell_type": "code",
   "execution_count": 97,
   "metadata": {},
   "outputs": [
    {
     "data": {
      "image/png": "[encoded data removed]",
      "text/latex": [
       "$$0.0233993005023655$$"
      ],
      "text/plain": [
       "0.0233993005023655"
      ]
     },
     "execution_count": 97,
     "metadata": {},
     "output_type": "execute_result"
    }
   ],
   "source": [
    "lolz2"
   ]
  },
  {
   "cell_type": "code",
   "execution_count": null,
   "metadata": {},
   "outputs": [],
   "source": []
  }
 ],
 "metadata": {
  "kernelspec": {
   "display_name": "Python 3",
   "language": "python",
   "name": "python3"
  },
  "language_info": {
   "codemirror_mode": {
    "name": "ipython",
    "version": 3
   },
   "file_extension": ".py",
   "mimetype": "text/x-python",
   "name": "python",
   "nbconvert_exporter": "python",
   "pygments_lexer": "ipython3",
   "version": "3.6.5"
  }
 },
 "nbformat": 4,
 "nbformat_minor": 2
}
